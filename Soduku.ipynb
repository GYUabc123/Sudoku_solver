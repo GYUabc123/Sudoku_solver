{
 "cells": [
  {
   "cell_type": "code",
   "execution_count": null,
   "id": "df12fb7d-1697-46d0-9854-5a77eb356a2f",
   "metadata": {
    "tags": []
   },
   "outputs": [],
   "source": [
    "def show_board(board):\n",
    "    # w = 3 make it not hard code\n",
    "    for i, s in enumerate(board):\n",
    "        print(', '.join(map(str, s)))\n"
   ]
  },
  {
   "cell_type": "markdown",
   "id": "dea50a01-5369-4346-9796-94a7750169b9",
   "metadata": {
    "tags": []
   },
   "source": []
  },
  {
   "cell_type": "markdown",
   "id": "bff1a148-07f7-4134-9282-13d8fe0c0b3a",
   "metadata": {},
   "source": [
    "### 1. Find the first empty spot (DFS)\n"
   ]
  },
  {
   "cell_type": "code",
   "execution_count": null,
   "id": "0806fa60-8f29-41b0-9482-a991c69ca25d",
   "metadata": {
    "tags": []
   },
   "outputs": [],
   "source": [
    "def find_blank_spots(board):\n",
    "    for i in range(len(board[0])):\n",
    "        for j in range(len(board[0])):\n",
    "            if board[i][j] == 0:\n",
    "                return i,j\n",
    "    return None"
   ]
  },
  {
   "cell_type": "markdown",
   "id": "01d0e03c-80e5-4cb1-b939-29752926ddca",
   "metadata": {
    "tags": []
   },
   "source": [
    "### 2. Find the empty spot that with Heuristic (Minimum Remaining Values or MRV)\n",
    "* Check the whole board every time to find the value, that take longer time then DFS\n"
   ]
  },
  {
   "cell_type": "code",
   "execution_count": null,
   "id": "34759cb8-955a-4520-963b-7408c988e41b",
   "metadata": {
    "tags": []
   },
   "outputs": [],
   "source": [
    "def find_blank_spots_with_MRV(board):\n",
    "    res_spot = None\n",
    "    mrv = len(board[0])+1\n",
    "    for i in range(len(board[0])):\n",
    "        for j in range(len(board[0])):\n",
    "            spot_possible_values=[]\n",
    "            if board[i][j] == 0:\n",
    "                for k in range(1,len(board[0])+1):\n",
    "                    if check_current_valid(board, i, j, k):\n",
    "                        spot_possible_values.append(k)\n",
    "                if(mrv > len(spot_possible_values)):\n",
    "                    mrv = len(spot_possible_values)\n",
    "                    res_spot = (i,j)\n",
    "    return res_spot"
   ]
  },
  {
   "cell_type": "markdown",
   "id": "3442f287-5970-41ba-b57c-9d9ee98edcb4",
   "metadata": {},
   "source": [
    "### 3. Find the empty spot that with most unfill spot (Degree Heuristic)"
   ]
  },
  {
   "cell_type": "code",
   "execution_count": null,
   "id": "2a1083a6-a51f-4df0-8f23-6570f4711bfc",
   "metadata": {
    "tags": []
   },
   "outputs": [],
   "source": [
    "def find_blank_spot_with_degree(board):\n",
    "    res_spot = None\n",
    "    deg_spot = len(board[0])\n",
    "    for i in range(len(board[0])):\n",
    "        for j in range(len(board[0])):\n",
    "            if board[i][j] == 0:\n",
    "                if i == 0:\n",
    "                    True\n",
    "    return res_spot\n",
    "            # if the spot check is the edge spot, less value\n",
    "            # hori then use i to check\n",
    "                \n",
    "            # else check the spot around them\n",
    "            # vert use j to"
   ]
  },
  {
   "cell_type": "markdown",
   "id": "5998a617-e68f-4756-a4aa-85885a0d92c1",
   "metadata": {
    "tags": []
   },
   "source": [
    "## Check if the board are valid"
   ]
  },
  {
   "cell_type": "code",
   "execution_count": null,
   "id": "4760db63-d0e6-4f23-9af3-da446c486cec",
   "metadata": {
    "tags": []
   },
   "outputs": [],
   "source": [
    "def check_current_valid(board, row, col, num):\n",
    "    block_size = len(board[0]) #square root of total number spots\n",
    "    sq_size = int(np.sqrt(block_size))\n",
    "    # check horizontal\n",
    "    if num in board[row]:\n",
    "        return False\n",
    "    \n",
    "    # check vertical, *transpose the list\n",
    "    # board transpose\n",
    "    b_transpose = np.array(board).T.tolist()\n",
    "    if num in b_transpose[col]:\n",
    "        return False\n",
    "    \n",
    "    # check square\n",
    "    start_row, start_col = sq_size * (row // sq_size), sq_size * (col // sq_size) #(0,0) (0,1) (0,2) | (0,3)\n",
    "    for i in range(start_row, start_row + sq_size):                               #(1,0) (1,1) (1,2) | (1,3)\n",
    "        for j in range(start_col, start_col + sq_size):                           #(2,0) (2,1) (2,2) | (2,3)\n",
    "            if board[i][j] == num:                                                #------------------|-----\n",
    "                return False                                                      #(3,0) (3,1) (3,2) | (3,3)\n",
    "    return True"
   ]
  },
  {
   "cell_type": "code",
   "execution_count": null,
   "id": "6970a74b-fa13-463e-815c-a2ea6c148a07",
   "metadata": {
    "tags": []
   },
   "outputs": [],
   "source": [
    "def DFS_with_MRV(board):\n",
    "    stack = [(board, find_blank_spots_with_MRV(board))]\n",
    "\n",
    "    while stack:\n",
    "        current_board, blank_location = stack.pop()\n",
    "        # if nothing in it == solved \n",
    "        # print(blank_location)\n",
    "        if not blank_location: \n",
    "            return current_board\n",
    "        \n",
    "        row, col = blank_location\n",
    "        for k in range(1, len(board[0])+1):\n",
    "            if check_current_valid(current_board, row, col, k):\n",
    "                # new_board = board.copy()\n",
    "                new_board = [row[:] for row in current_board]\n",
    "                # print(new_board)\n",
    "                # print(board)\n",
    "                new_board[row][col] = k\n",
    "                next_blank_location = find_blank_spots_with_MRV(new_board)\n",
    "                \n",
    "                #put all the possiable move into the stack \n",
    "                stack.append((new_board, next_blank_location))\n",
    "                \n",
    "    # No soluction\n",
    "    return None"
   ]
  },
  {
   "cell_type": "code",
   "execution_count": null,
   "id": "286d7fbb-8081-419f-b348-595a8c4ce49f",
   "metadata": {},
   "outputs": [],
   "source": []
  },
  {
   "cell_type": "code",
   "execution_count": null,
   "id": "9ca5cc3c-f0e6-477e-9830-df27fd862cc0",
   "metadata": {},
   "outputs": [],
   "source": [
    "def DFS(board):\n",
    "    stack = [(board, find_blank_spots(board))]\n",
    "    while stack:\n",
    "        current_board, blank_location = stack.pop()\n",
    "        # if nothing in it == solved \n",
    "        # print(blank_location)\n",
    "        if not blank_location: \n",
    "            return current_board\n",
    "        \n",
    "        row, col = blank_location\n",
    "        for k in range(1, len(board[0])+1):\n",
    "            if check_current_valid(current_board, row, col, k):\n",
    "                # new_board = board.copy()\n",
    "                new_board = [row[:] for row in current_board]\n",
    "                # print(new_board)\n",
    "                # print(board)\n",
    "                new_board[row][col] = k\n",
    "                next_blank_location = find_blank_spots(new_board)\n",
    "                \n",
    "                #put all the possiable move into the stack \n",
    "                stack.append((new_board, next_blank_location))\n",
    "                \n",
    "    # No soluction\n",
    "    return None"
   ]
  },
  {
   "cell_type": "code",
   "execution_count": null,
   "id": "0b00bc23",
   "metadata": {},
   "outputs": [],
   "source": [
    "def clicked(in_out):\n",
    "    global board\n",
    "    for i in range(0,4):\n",
    "        for j in range(0,4):\n",
    "            if in_out[i][j].get() == '':\n",
    "                in_out[i][j] = '0'\n",
    "                board[i][j] = int(in_out[i][j])\n",
    "            else:\n",
    "                board[i][j] = int(in_out[i][j].get())    "
   ]
  },
  {
   "cell_type": "code",
   "execution_count": null,
   "id": "11fc6a5d-d168-4790-a83b-5d3a5fb3f33d",
   "metadata": {
    "tags": []
   },
   "outputs": [],
   "source": [
    "import numpy as np\n",
    "import time\n",
    "from tkinter import *\n",
    "from tkinter.ttk import *\n",
    "\n",
    "# board = [[1,2,4,3],\n",
    "#          [3,4,2,1],\n",
    "#          [2,3,1,4],\n",
    "#          [4,1,3,2]]\n",
    "\n",
    "\n",
    "# test_b = [[1,2,0,0],\n",
    "#             [0,0,0,0],\n",
    "#             [0,0,0,0],\n",
    "#             [0,0,3,2]]\n",
    "\n",
    "\n",
    "\n",
    "# b_9_by_9 = [[7,5,0,0,0,4,0,0,2],\n",
    "#             [6,0,0,0,2,0,3,0,0],\n",
    "#             [0,2,0,0,0,0,5,0,0],\n",
    "#             [0,3,0,0,7,0,0,0,0],\n",
    "#             [2,0,0,0,1,3,0,0,0],\n",
    "#             [0,0,0,0,4,0,7,0,1],\n",
    "#             [0,0,7,0,0,0,0,0,0],\n",
    "#             [5,0,0,0,0,1,0,0,3],\n",
    "#             [0,1,2,0,0,0,0,7,0]]\n",
    "\n",
    "# # # repeated in first square \n",
    "# # b_9_by_9_test = [[7,5,0,0,0,4,0,0,2],\n",
    "# #                 [6,0,0,0,2,0,3,0,0],\n",
    "# #                 [5,2,0,0,0,0,5,0,0],\n",
    "# #                 [0,3,0,0,7,0,0,0,0],\n",
    "# #                 [2,0,0,0,1,3,0,0,0],\n",
    "# #                 [0,0,0,0,4,0,7,0,1],\n",
    "# #                 [0,0,7,0,0,0,0,0,0],\n",
    "# #                 [5,0,0,0,0,1,0,0,3],\n",
    "# #                 [0,1,2,0,0,0,0,7,0]]\n",
    "\n",
    "# s = [[0,0,0,0,0,4,1,0,0],\n",
    "#       [0,1,0,0,0,0,9,0,0],\n",
    "#       [0,9,3,2,0,0,7,4,0],\n",
    "#       [3,0,9,0,0,0,0,0,0],\n",
    "#       [0,0,0,7,0,0,4,0,9],\n",
    "#       [0,0,4,0,0,5,8,1,0],\n",
    "#       [9,0,0,5,0,0,0,7,0],\n",
    "#       [8,0,7,0,0,1,0,0,2],\n",
    "#       [1,0,0,0,7,0,0,0,0]]\n",
    "\n",
    "# s2 = [[0,0,0,0,0,4,1,0,0],\n",
    "#       [0,1,0,0,0,0,9,0,0],\n",
    "#       [0,9,3,2,0,0,7,4,0],\n",
    "#       [3,0,9,0,0,0,0,0,0],\n",
    "#       [0,0,0,7,0,0,4,0,9],\n",
    "#       [0,0,4,0,0,5,8,1,0],\n",
    "#       [9,0,0,5,0,0,0,7,0],\n",
    "#       [8,0,7,0,0,1,0,0,2],\n",
    "#       [1,0,0,0,7,0,0,0,0]]\n",
    "# # print(check_current_valid(test_b, 1, 0, 2))\n",
    "# # print(blank_spots(board))\n",
    "row = 9\n",
    "col = 9\n",
    "\n",
    "window = Tk()\n",
    "window.title('Sudoku Solver')\n",
    "window.geometry('750x350')\n",
    "\n",
    "lblCell = Label(window, text=\"\")\n",
    "lblCell.grid(column=0, row=0)\n",
    "\n",
    "myInputOutputCells = [[0 for x in range(0,row)] for x in range(0,col)]\n",
    "board = [[0 for x in range(0,row)] for x in range(0,col)]\n",
    "\n",
    "for rowNo in range (0,row):   #create the matirx-based user interface\n",
    "    for colNo in range(0, col):\n",
    "        nextCell = Entry(window, width=10)\n",
    "        nextCell.grid(column = colNo, row = rowNo+1, padx = 5, pady = 1)\n",
    "        myInputOutputCells[rowNo][colNo] = nextCell\n",
    "\n",
    "btnCell = Button(window, text=\"Solve\", command=lambda: clicked(myInputOutputCells))\n",
    "btnCell.grid(column=8, row=11)\n",
    "window.mainloop()\n",
    "\n",
    "start1 = time.time()\n",
    "res = DFS(board)\n",
    "end1 = time.time()\n",
    "show_board(res)\n",
    "start2 = time.time()\n",
    "res2 = DFS_with_MRV(board)\n",
    "end2 = time.time()\n",
    "\n",
    "# Calculate the time for each method\n",
    "# print('DFS:', end1 - start1)\n",
    "# print('DFS w/ MRV:', end2 - start2)\n"
   ]
  },
  {
   "cell_type": "code",
   "execution_count": null,
   "id": "480b0ce4-202a-4115-b7e4-0eff90c0e7db",
   "metadata": {},
   "outputs": [],
   "source": []
  }
 ],
 "metadata": {
  "kernelspec": {
   "display_name": "Python 3 (ipykernel)",
   "language": "python",
   "name": "python3"
  },
  "language_info": {
   "codemirror_mode": {
    "name": "ipython",
    "version": 3
   },
   "file_extension": ".py",
   "mimetype": "text/x-python",
   "name": "python",
   "nbconvert_exporter": "python",
   "pygments_lexer": "ipython3",
   "version": "3.12.1"
  }
 },
 "nbformat": 4,
 "nbformat_minor": 5
}
